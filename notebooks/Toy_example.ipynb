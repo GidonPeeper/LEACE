{
 "cells": [
  {
   "cell_type": "code",
   "execution_count": null,
   "id": "32197f12",
   "metadata": {
    "vscode": {
     "languageId": "plaintext"
    }
   },
   "outputs": [],
   "source": [
    "# 2D embeddings, class depends on x-position\n",
    "X = np.array([[1, 0], [2, 0], [3, 0], [-1, 0], [-2, 0], [-3, 0]])  # (6, 2)\n",
    "Z = np.array([1, 1, 1, 0, 0, 0])  # Labels: 1 if x > 0, else 0"
   ]
  },
  {
   "cell_type": "code",
   "execution_count": null,
   "id": "6af260a6",
   "metadata": {},
   "outputs": [],
   "source": [
    "from sklearn.linear_model import LogisticRegression\n",
    "\n",
    "probe = LogisticRegression().fit(X, Z)\n",
    "accuracy = probe.score(X, Z)\n"
   ]
  }
 ],
 "metadata": {
  "language_info": {
   "name": "python"
  }
 },
 "nbformat": 4,
 "nbformat_minor": 5
}
