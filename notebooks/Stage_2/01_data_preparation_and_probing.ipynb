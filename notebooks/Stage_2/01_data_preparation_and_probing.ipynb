{
 "cells": [
  {
   "cell_type": "code",
   "execution_count": 5,
   "metadata": {},
   "outputs": [
    {
     "ename": "FileNotFoundError",
     "evalue": "[Errno 2] No such file or directory: '../data/ud_ewt/en_ewt-ud-train.conllu'",
     "output_type": "error",
     "traceback": [
      "\u001b[0;31m---------------------------------------------------------------------------\u001b[0m",
      "\u001b[0;31mFileNotFoundError\u001b[0m                         Traceback (most recent call last)",
      "Cell \u001b[0;32mIn[5], line 10\u001b[0m\n\u001b[1;32m      7\u001b[0m sentences \u001b[38;5;241m=\u001b[39m []\n\u001b[1;32m      9\u001b[0m \u001b[38;5;66;03m# Parse the .conllu file\u001b[39;00m\n\u001b[0;32m---> 10\u001b[0m \u001b[38;5;28;01mwith\u001b[39;00m \u001b[38;5;28;43mopen\u001b[39;49m\u001b[43m(\u001b[49m\u001b[43mtrain_file\u001b[49m\u001b[43m,\u001b[49m\u001b[43m \u001b[49m\u001b[38;5;124;43m\"\u001b[39;49m\u001b[38;5;124;43mr\u001b[39;49m\u001b[38;5;124;43m\"\u001b[39;49m\u001b[43m,\u001b[49m\u001b[43m \u001b[49m\u001b[43mencoding\u001b[49m\u001b[38;5;241;43m=\u001b[39;49m\u001b[38;5;124;43m\"\u001b[39;49m\u001b[38;5;124;43mutf-8\u001b[39;49m\u001b[38;5;124;43m\"\u001b[39;49m\u001b[43m)\u001b[49m \u001b[38;5;28;01mas\u001b[39;00m f:\n\u001b[1;32m     11\u001b[0m     \u001b[38;5;28;01mfor\u001b[39;00m tokenlist \u001b[38;5;129;01min\u001b[39;00m parse_incr(f):\n\u001b[1;32m     12\u001b[0m         words \u001b[38;5;241m=\u001b[39m []\n",
      "File \u001b[0;32m~/.conda/envs/leace/lib/python3.10/site-packages/IPython/core/interactiveshell.py:324\u001b[0m, in \u001b[0;36m_modified_open\u001b[0;34m(file, *args, **kwargs)\u001b[0m\n\u001b[1;32m    317\u001b[0m \u001b[38;5;28;01mif\u001b[39;00m file \u001b[38;5;129;01min\u001b[39;00m {\u001b[38;5;241m0\u001b[39m, \u001b[38;5;241m1\u001b[39m, \u001b[38;5;241m2\u001b[39m}:\n\u001b[1;32m    318\u001b[0m     \u001b[38;5;28;01mraise\u001b[39;00m \u001b[38;5;167;01mValueError\u001b[39;00m(\n\u001b[1;32m    319\u001b[0m         \u001b[38;5;124mf\u001b[39m\u001b[38;5;124m\"\u001b[39m\u001b[38;5;124mIPython won\u001b[39m\u001b[38;5;124m'\u001b[39m\u001b[38;5;124mt let you open fd=\u001b[39m\u001b[38;5;132;01m{\u001b[39;00mfile\u001b[38;5;132;01m}\u001b[39;00m\u001b[38;5;124m by default \u001b[39m\u001b[38;5;124m\"\u001b[39m\n\u001b[1;32m    320\u001b[0m         \u001b[38;5;124m\"\u001b[39m\u001b[38;5;124mas it is likely to crash IPython. If you know what you are doing, \u001b[39m\u001b[38;5;124m\"\u001b[39m\n\u001b[1;32m    321\u001b[0m         \u001b[38;5;124m\"\u001b[39m\u001b[38;5;124myou can use builtins\u001b[39m\u001b[38;5;124m'\u001b[39m\u001b[38;5;124m open.\u001b[39m\u001b[38;5;124m\"\u001b[39m\n\u001b[1;32m    322\u001b[0m     )\n\u001b[0;32m--> 324\u001b[0m \u001b[38;5;28;01mreturn\u001b[39;00m \u001b[43mio_open\u001b[49m\u001b[43m(\u001b[49m\u001b[43mfile\u001b[49m\u001b[43m,\u001b[49m\u001b[43m \u001b[49m\u001b[38;5;241;43m*\u001b[39;49m\u001b[43margs\u001b[49m\u001b[43m,\u001b[49m\u001b[43m \u001b[49m\u001b[38;5;241;43m*\u001b[39;49m\u001b[38;5;241;43m*\u001b[39;49m\u001b[43mkwargs\u001b[49m\u001b[43m)\u001b[49m\n",
      "\u001b[0;31mFileNotFoundError\u001b[0m: [Errno 2] No such file or directory: '../data/ud_ewt/en_ewt-ud-train.conllu'"
     ]
    }
   ],
   "source": [
    "from conllu import parse_incr\n",
    "\n",
    "# Path to your data\n",
    "train_file = \"../data/ud_ewt/en_ewt-ud-train.conllu\"\n",
    "\n",
    "# Store parsed sentences\n",
    "sentences = []\n",
    "\n",
    "# Parse the .conllu file\n",
    "with open(train_file, \"r\", encoding=\"utf-8\") as f:\n",
    "    for tokenlist in parse_incr(f):\n",
    "        words = []\n",
    "        pos_tags = []\n",
    "        \n",
    "        for token in tokenlist:\n",
    "            if isinstance(token['id'], int):  # Ignore multi-word tokens (e.g., 2-3)\n",
    "                words.append(token['form'])\n",
    "                pos_tags.append(token['upostag'])\n",
    "        \n",
    "        sentences.append({\n",
    "            \"words\": words,\n",
    "            \"pos_tags\": pos_tags\n",
    "        })\n",
    "\n",
    "print(f\"Parsed {len(sentences)} sentences.\")\n",
    "print(\"Example:\")\n",
    "print(sentences[0])\n"
   ]
  },
  {
   "cell_type": "code",
   "execution_count": null,
   "metadata": {},
   "outputs": [],
   "source": [
    "# Define POS sets for features\n",
    "function_words = {\"ADP\", \"AUX\", \"CCONJ\", \"DET\", \"PART\", \"PRON\", \"SCONJ\"}\n",
    "noun_pos = {\"NOUN\", \"PROPN\"}\n",
    "verb_pos = {\"VERB\", \"AUX\"}\n",
    "closed_class = {\"ADP\", \"AUX\", \"CCONJ\", \"DET\", \"PART\", \"PRON\", \"SCONJ\", \"PUNCT\", \"SYM\"}\n",
    "\n",
    "# Map POS tag to feature labels\n",
    "def get_labels(pos_tags):\n",
    "    labels = {\n",
    "        \"function_content\": [],\n",
    "        \"noun_nonnoun\": [],\n",
    "        \"verb_nonverb\": [],\n",
    "        \"closed_open\": []\n",
    "    }\n",
    "    \n",
    "    for pos in pos_tags:\n",
    "        labels[\"function_content\"].append(1 if pos in function_words else 0)\n",
    "        labels[\"noun_nonnoun\"].append(1 if pos in noun_pos else 0)\n",
    "        labels[\"verb_nonverb\"].append(1 if pos in verb_pos else 0)\n",
    "        labels[\"closed_open\"].append(1 if pos in closed_class else 0)\n",
    "    \n",
    "    return labels\n"
   ]
  },
  {
   "cell_type": "code",
   "execution_count": 1,
   "metadata": {},
   "outputs": [
    {
     "name": "stderr",
     "output_type": "stream",
     "text": [
      "/home/gpeeper/.conda/envs/leace/lib/python3.10/site-packages/tqdm/auto.py:21: TqdmWarning: IProgress not found. Please update jupyter and ipywidgets. See https://ipywidgets.readthedocs.io/en/stable/user_install.html\n",
      "  from .autonotebook import tqdm as notebook_tqdm\n"
     ]
    },
    {
     "ename": "NameError",
     "evalue": "name 'sentences' is not defined",
     "output_type": "error",
     "traceback": [
      "\u001b[0;31m---------------------------------------------------------------------------\u001b[0m",
      "\u001b[0;31mNameError\u001b[0m                                 Traceback (most recent call last)",
      "Cell \u001b[0;32mIn[1], line 11\u001b[0m\n\u001b[1;32m      8\u001b[0m \u001b[38;5;66;03m# Store tokenized outputs\u001b[39;00m\n\u001b[1;32m      9\u001b[0m tokenized_sentences \u001b[38;5;241m=\u001b[39m []\n\u001b[0;32m---> 11\u001b[0m \u001b[38;5;28;01mfor\u001b[39;00m sent \u001b[38;5;129;01min\u001b[39;00m tqdm(\u001b[43msentences\u001b[49m):\n\u001b[1;32m     12\u001b[0m     words \u001b[38;5;241m=\u001b[39m sent[\u001b[38;5;124m\"\u001b[39m\u001b[38;5;124mwords\u001b[39m\u001b[38;5;124m\"\u001b[39m]\n\u001b[1;32m     13\u001b[0m     pos_tags \u001b[38;5;241m=\u001b[39m sent[\u001b[38;5;124m\"\u001b[39m\u001b[38;5;124mpos_tags\u001b[39m\u001b[38;5;124m\"\u001b[39m]\n",
      "\u001b[0;31mNameError\u001b[0m: name 'sentences' is not defined"
     ]
    }
   ],
   "source": [
    "from transformers import GPT2Tokenizer\n",
    "from tqdm import tqdm\n",
    "\n",
    "# Load GPT-2 tokenizer\n",
    "tokenizer = GPT2Tokenizer.from_pretrained(\"gpt2\")\n",
    "tokenizer.pad_token = tokenizer.eos_token  # Important for batching later\n",
    "\n",
    "# Store tokenized outputs\n",
    "tokenized_sentences = []\n",
    "\n",
    "for sent in tqdm(sentences):\n",
    "    words = sent[\"words\"]\n",
    "    pos_tags = sent[\"pos_tags\"]\n",
    "    \n",
    "    # Get binary labels for each linguistic feature\n",
    "    feature_labels = get_labels(pos_tags)\n",
    "    \n",
    "    input_ids = []\n",
    "    attention_mask = []\n",
    "    \n",
    "    # Separate label streams\n",
    "    labels_function_content = []\n",
    "    labels_noun_nonnoun = []\n",
    "    labels_verb_nonverb = []\n",
    "    labels_closed_open = []\n",
    "    \n",
    "    for word, fc_label, nn_label, vb_label, co_label in zip(\n",
    "        words,\n",
    "        feature_labels[\"function_content\"],\n",
    "        feature_labels[\"noun_nonnoun\"],\n",
    "        feature_labels[\"verb_nonverb\"],\n",
    "        feature_labels[\"closed_open\"],\n",
    "    ):\n",
    "        # Tokenize the word individually\n",
    "        word_tokens = tokenizer.tokenize(word)\n",
    "        word_ids = tokenizer.convert_tokens_to_ids(word_tokens)\n",
    "        \n",
    "        if not word_ids:\n",
    "            continue  # Skip empty or bad tokens\n",
    "        \n",
    "        input_ids.extend(word_ids)\n",
    "        attention_mask.extend([1] * len(word_ids))\n",
    "        \n",
    "        # Label first subtoken; mask others with -100\n",
    "        labels_function_content.append(fc_label)\n",
    "        labels_function_content.extend([-100] * (len(word_ids) - 1))\n",
    "        \n",
    "        labels_noun_nonnoun.append(nn_label)\n",
    "        labels_noun_nonnoun.extend([-100] * (len(word_ids) - 1))\n",
    "        \n",
    "        labels_verb_nonverb.append(vb_label)\n",
    "        labels_verb_nonverb.extend([-100] * (len(word_ids) - 1))\n",
    "        \n",
    "        labels_closed_open.append(co_label)\n",
    "        labels_closed_open.extend([-100] * (len(word_ids) - 1))\n",
    "        \n",
    "    # Store everything\n",
    "    tokenized_sentences.append({\n",
    "        \"input_ids\": input_ids,\n",
    "        \"attention_mask\": attention_mask,\n",
    "        \"labels_function_content\": labels_function_content,\n",
    "        \"labels_noun_nonnoun\": labels_noun_nonnoun,\n",
    "        \"labels_verb_nonverb\": labels_verb_nonverb,\n",
    "        \"labels_closed_open\": labels_closed_open,\n",
    "    })\n",
    "\n",
    "print(f\"Tokenized {len(tokenized_sentences)} sentences.\")\n",
    "print(\"Example:\")\n",
    "example = tokenized_sentences[0]\n",
    "print(tokenizer.convert_ids_to_tokens(example[\"input_ids\"]))\n",
    "print(example[\"labels_function_content\"])\n"
   ]
  }
 ],
 "metadata": {
  "kernelspec": {
   "display_name": "Python 3",
   "language": "python",
   "name": "python3"
  },
  "language_info": {
   "codemirror_mode": {
    "name": "ipython",
    "version": 3
   },
   "file_extension": ".py",
   "mimetype": "text/x-python",
   "name": "python",
   "nbconvert_exporter": "python",
   "pygments_lexer": "ipython3",
   "version": "3.10.16"
  }
 },
 "nbformat": 4,
 "nbformat_minor": 2
}
